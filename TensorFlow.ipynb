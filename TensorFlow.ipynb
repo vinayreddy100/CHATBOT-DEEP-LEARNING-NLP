{
  "nbformat": 4,
  "nbformat_minor": 0,
  "metadata": {
    "colab": {
      "name": "TensorFlow.ipynb",
      "provenance": [],
      "authorship_tag": "ABX9TyMJ53CfNMdsgLQpxoEHaNwZ",
      "include_colab_link": true
    },
    "kernelspec": {
      "name": "python3",
      "display_name": "Python 3"
    }
  },
  "cells": [
    {
      "cell_type": "markdown",
      "metadata": {
        "id": "view-in-github",
        "colab_type": "text"
      },
      "source": [
        "<a href=\"https://colab.research.google.com/github/vinayreddy100/CHATBOT-DEEP-LEARNING-NLP/blob/master/TensorFlow.ipynb\" target=\"_parent\"><img src=\"https://colab.research.google.com/assets/colab-badge.svg\" alt=\"Open In Colab\"/></a>"
      ]
    },
    {
      "cell_type": "code",
      "metadata": {
        "id": "FnIWhgy9JmB2",
        "colab_type": "code",
        "colab": {}
      },
      "source": [
        ""
      ],
      "execution_count": 0,
      "outputs": []
    },
    {
      "cell_type": "code",
      "metadata": {
        "id": "ggQGSzGMJoJ4",
        "colab_type": "code",
        "outputId": "2f0e7ad3-32d4-4c1f-84d3-636cc4bd0109",
        "colab": {
          "base_uri": "https://localhost:8080/",
          "height": 34
        }
      },
      "source": [
        "%tensorflow_version 2.x"
      ],
      "execution_count": 0,
      "outputs": [
        {
          "output_type": "stream",
          "text": [
            "TensorFlow 2.x selected.\n"
          ],
          "name": "stdout"
        }
      ]
    },
    {
      "cell_type": "code",
      "metadata": {
        "id": "c4svSWiFMd-9",
        "colab_type": "code",
        "outputId": "4b9e13f6-49e1-4ddb-c2a0-ccde061ddec8",
        "colab": {
          "base_uri": "https://localhost:8080/",
          "height": 34
        }
      },
      "source": [
        "import tensorflow as tf\n",
        "print(tf.version)"
      ],
      "execution_count": 0,
      "outputs": [
        {
          "output_type": "stream",
          "text": [
            "<module 'tensorflow_core._api.v2.version' from '/tensorflow-2.1.0/python3.6/tensorflow_core/_api/v2/version/__init__.py'>\n"
          ],
          "name": "stdout"
        }
      ]
    },
    {
      "cell_type": "code",
      "metadata": {
        "id": "VE9BTXFJMsME",
        "colab_type": "code",
        "colab": {}
      },
      "source": [
        "# what is tensor ?\n",
        "#vector generalized to higher dimensions represents n dimensional arrays of base datapoints each tensor has a datatype and shape\n",
        "\n"
      ],
      "execution_count": 0,
      "outputs": []
    },
    {
      "cell_type": "code",
      "metadata": {
        "id": "yK-1F-GCNO78",
        "colab_type": "code",
        "colab": {}
      },
      "source": [
        "# creating tensors\n",
        "string = tf.Variable(\"My name is chintu\", tf.string)\n",
        "number = tf.Variable(23, tf.int16)\n",
        "float3 = tf.Variable(23.23, tf.float64)"
      ],
      "execution_count": 0,
      "outputs": []
    },
    {
      "cell_type": "code",
      "metadata": {
        "id": "QT2z-KiKPPAo",
        "colab_type": "code",
        "colab": {}
      },
      "source": [
        "# Rank or degree in tensor - number of dimensions involved in tensors\n",
        "rank1_tensor = tf.Variable(['Bookers BackYard'], tf.string )\n",
        "rank2_tensor = tf.Variable([['Black Label', '1'], ['Blue Label', '2']], tf.string)"
      ],
      "execution_count": 0,
      "outputs": []
    },
    {
      "cell_type": "code",
      "metadata": {
        "id": "uXNaC42bP0mh",
        "colab_type": "code",
        "outputId": "747e255e-67f8-40c6-e871-94ab329f7865",
        "colab": {
          "base_uri": "https://localhost:8080/",
          "height": 34
        }
      },
      "source": [
        "# to determine rank of tensor \n",
        "tf.rank(rank2_tensor)"
      ],
      "execution_count": 0,
      "outputs": [
        {
          "output_type": "execute_result",
          "data": {
            "text/plain": [
              "<tf.Tensor: shape=(), dtype=int32, numpy=2>"
            ]
          },
          "metadata": {
            "tags": []
          },
          "execution_count": 13
        }
      ]
    },
    {
      "cell_type": "code",
      "metadata": {
        "id": "EpOUAOpJQDk-",
        "colab_type": "code",
        "outputId": "78059286-8099-412a-faa2-671adab1ca1d",
        "colab": {
          "base_uri": "https://localhost:8080/",
          "height": 34
        }
      },
      "source": [
        "# shape of a tensor tells us how many dimensions we have in each tensor\n",
        "rank2_tensor.shape"
      ],
      "execution_count": 0,
      "outputs": [
        {
          "output_type": "execute_result",
          "data": {
            "text/plain": [
              "TensorShape([2, 2])"
            ]
          },
          "metadata": {
            "tags": []
          },
          "execution_count": 15
        }
      ]
    },
    {
      "cell_type": "code",
      "metadata": {
        "id": "tzsflpohQkbR",
        "colab_type": "code",
        "outputId": "37b4e117-c8de-4aff-a43c-2b8b428da59d",
        "colab": {
          "base_uri": "https://localhost:8080/",
          "height": 34
        }
      },
      "source": [
        "rank1_tensor.shape"
      ],
      "execution_count": 0,
      "outputs": [
        {
          "output_type": "execute_result",
          "data": {
            "text/plain": [
              "TensorShape([1])"
            ]
          },
          "metadata": {
            "tags": []
          },
          "execution_count": 16
        }
      ]
    },
    {
      "cell_type": "code",
      "metadata": {
        "id": "ef_iqDPuQxgv",
        "colab_type": "code",
        "outputId": "67b4b52e-617f-4148-e698-b18bf575e994",
        "colab": {
          "base_uri": "https://localhost:8080/",
          "height": 272
        }
      },
      "source": [
        "# change shape\n",
        "tensor1 = tf.ones([1,2,3])\n",
        "print(tensor1)\n",
        "# reshape existing data to diff shape\n",
        "tensor2 = tf.reshape(tensor1, [2, 3, 1])\n",
        "print(tensor2)\n",
        "tensor3 = tf.reshape(tensor2, [3, -1])\n",
        "print(tensor3)"
      ],
      "execution_count": 0,
      "outputs": [
        {
          "output_type": "stream",
          "text": [
            "tf.Tensor(\n",
            "[[[1. 1. 1.]\n",
            "  [1. 1. 1.]]], shape=(1, 2, 3), dtype=float32)\n",
            "tf.Tensor(\n",
            "[[[1.]\n",
            "  [1.]\n",
            "  [1.]]\n",
            "\n",
            " [[1.]\n",
            "  [1.]\n",
            "  [1.]]], shape=(2, 3, 1), dtype=float32)\n",
            "tf.Tensor(\n",
            "[[1. 1.]\n",
            " [1. 1.]\n",
            " [1. 1.]], shape=(3, 2), dtype=float32)\n"
          ],
          "name": "stdout"
        }
      ]
    },
    {
      "cell_type": "code",
      "metadata": {
        "id": "B4m9M4vgSLuc",
        "colab_type": "code",
        "outputId": "c403e1bf-b92c-4680-877e-e709d36ef2ae",
        "colab": {
          "base_uri": "https://localhost:8080/",
          "height": 51
        }
      },
      "source": [
        "# create a 2d tensor \n",
        "matrix = [[1, 2, 3, 4, 5],\n",
        "          [6, 7,8,9, 0],\n",
        "          [1, 2, 4, 6, 8],\n",
        "          [2, 4, 6, 8, 0],\n",
        "          [2, 4, 6, 7, 8]]\n",
        "tensor = tf.Variable(matrix, dtype = tf.int32)\n",
        "print(tf.rank(tensor))\n",
        "print(tensor.shape)\n",
        "\n"
      ],
      "execution_count": 0,
      "outputs": [
        {
          "output_type": "stream",
          "text": [
            "tf.Tensor(2, shape=(), dtype=int32)\n",
            "(5, 5)\n"
          ],
          "name": "stdout"
        }
      ]
    },
    {
      "cell_type": "code",
      "metadata": {
        "id": "gmPDcbfXVzHE",
        "colab_type": "code",
        "colab": {}
      },
      "source": [
        ""
      ],
      "execution_count": 0,
      "outputs": []
    }
  ]
}